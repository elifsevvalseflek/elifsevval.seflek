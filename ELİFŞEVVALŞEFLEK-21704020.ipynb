{
 "cells": [
  {
   "cell_type": "code",
   "execution_count": 4,
   "metadata": {},
   "outputs": [
    {
     "name": "stdout",
     "output_type": "stream",
     "text": [
      ">>> İki bilinmeyenli denklem kök <<<\n",
      "Denkleminiz (ax**2+b*x+c)şeklinde olmalıdır\n",
      "A değerini giriniz:1\n",
      "B değerini giriniz:1\n",
      "C değerini giriniz:1\n",
      "reel kök yoktur...\n"
     ]
    }
   ],
   "source": [
    "###homework\n",
    "print(\">>> İki bilinmeyenli denklem kök <<<\")\n",
    "print(\"Denkleminiz (ax**2+b*x+c)şeklinde olmalıdır\")\n",
    "a=int(input(\"A değerini giriniz:\"))\n",
    "b=int(input(\"B değerini giriniz:\"))\n",
    "c=int(input(\"C değerini giriniz:\"))\n",
    "delta=b**2-4*a*c\n",
    "x1 =(-b -delta ** 0.5)/ (2*a)\n",
    "x2 =(-b +delta ** 0.5)/ (2*a)\n",
    "if delta<0:\n",
    "  print(\"reel kök yoktur...\")\n",
    "if delta==0:\n",
    "  print(\"çakışık iki kök vardır...\")\n",
    "  print(\"Denkleminizin birinci kökü:{}\\n Denkleminizin ikinci kökü:{}\\n\".format(x1,x2))\n",
    "if delta>0:\n",
    "  print(\"gercek iki kök vardır...\")\n",
    "  print(\"Denkleminizin birinci kökü:{}\\n Denkleminizin ikinci kökü:{}\\n\".format(x1,x2))"
   ]
  },
  {
   "cell_type": "code",
   "execution_count": null,
   "metadata": {},
   "outputs": [],
   "source": []
  }
 ],
 "metadata": {
  "kernelspec": {
   "display_name": "Python 3",
   "language": "python",
   "name": "python3"
  },
  "language_info": {
   "codemirror_mode": {
    "name": "ipython",
    "version": 3
   },
   "file_extension": ".py",
   "mimetype": "text/x-python",
   "name": "python",
   "nbconvert_exporter": "python",
   "pygments_lexer": "ipython3",
   "version": "3.6.5"
  }
 },
 "nbformat": 4,
 "nbformat_minor": 2
}
